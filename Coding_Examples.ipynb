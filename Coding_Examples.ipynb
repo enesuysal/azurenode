{
  "nbformat": 4,
  "nbformat_minor": 0,
  "metadata": {
    "colab": {
      "provenance": [],
      "authorship_tag": "ABX9TyObcahr632nZTTDBIVpFMDG",
      "include_colab_link": true
    },
    "kernelspec": {
      "name": "python3",
      "display_name": "Python 3"
    },
    "language_info": {
      "name": "python"
    }
  },
  "cells": [
    {
      "cell_type": "markdown",
      "metadata": {
        "id": "view-in-github",
        "colab_type": "text"
      },
      "source": [
        "<a href=\"https://colab.research.google.com/github/enesuysal/azurenode/blob/master/Coding_Examples.ipynb\" target=\"_parent\"><img src=\"https://colab.research.google.com/assets/colab-badge.svg\" alt=\"Open In Colab\"/></a>"
      ]
    },
    {
      "cell_type": "code",
      "execution_count": null,
      "metadata": {
        "id": "BiUGL-dIsN9g"
      },
      "outputs": [],
      "source": [
        "#  Two Sum (#1)\n",
        "from typing import List\n",
        "class Solution:\n",
        "    def twoSum(self, nums: List[int], target: int) -> List[int]:\n",
        "        m = {}\n",
        "        for i in range(len(nums)):\n",
        "            if target - nums[i] in m:\n",
        "                return [m[target-nums[i]], i]\n",
        "            else:\n",
        "                m[nums[i]] = i\n",
        "        return []"
      ]
    },
    {
      "cell_type": "code",
      "source": [
        "# Valid Palindrome (#125)\n",
        "class Solution:\n",
        "    def isPalindrome(self, s: str) -> bool:\n",
        "        left = 0\n",
        "        right = len(s)-1\n",
        "        while left<right:\n",
        "            while left < right and not s[left].isalnum():\n",
        "                left +=1\n",
        "            while left<right and not s[right].isalnum():\n",
        "                right -=1\n",
        "            if s[left].lower() != s[right].lower():\n",
        "                return False\n",
        "            left +=1\n",
        "            right -=1\n",
        "        return True"
      ],
      "metadata": {
        "id": "Ad-S1aZlstrJ"
      },
      "execution_count": null,
      "outputs": []
    },
    {
      "cell_type": "code",
      "source": [
        "def maxArea_brute(height):\n",
        "  max_area = 0\n",
        "  for i in range(len(height)):\n",
        "    for j in range(i+1, len(height)):\n",
        "      area = min(height[i], height[j]) * (j-i)\n",
        "      max_area = max(area,max_area)\n",
        "  return max_area\n",
        "height = [1,8,6,2,5,4,8,3,7]\n",
        "print(maxArea_brute(height))\n",
        "\n",
        "def maxArea(height):\n",
        "  max_area = 0\n",
        "  left = 0\n",
        "  right = len(height) -1\n",
        "  while right < left:\n",
        "    width = right - left\n",
        "    current_area = min(height[right], height[left]) * width\n",
        "    max_area = max(max_area, current_area)\n",
        "\n",
        "    if height[left] < height[right]:\n",
        "      left +=1\n",
        "    else:\n",
        "      right -=1\n",
        "  return max_area\n",
        "height = [1,8,6,2,5,4,8,3,7]\n",
        "print(maxArea_brute(height))"
      ],
      "metadata": {
        "colab": {
          "base_uri": "https://localhost:8080/"
        },
        "id": "oGhoqEHXvpVL",
        "outputId": "de413beb-05bd-45fd-c0c6-b5afc5493233"
      },
      "execution_count": null,
      "outputs": [
        {
          "output_type": "stream",
          "name": "stdout",
          "text": [
            "49\n",
            "49\n"
          ]
        }
      ]
    },
    {
      "cell_type": "code",
      "source": [
        "# 3 Sum\n",
        "'''\n",
        "1. Sort the array first\n",
        "2. Fix first element use 2 pointer for remaining two\n",
        "3 Skip duplicates carefully\n",
        "'''\n",
        "def threeSum(nums):\n",
        "  #Edge case\n",
        "  if len(nums) <3:\n",
        "    return []\n",
        "\n",
        "  nums.sort()\n",
        "  result = []\n",
        "  # sort for 2 pointer approach fix first element with iterate\n",
        "  for i in range(len(nums) -2):\n",
        "    # if first element bigger than 0 impossible\n",
        "    if nums[i] >0:\n",
        "      break\n",
        "\n",
        "    left, right = i+1, len(nums-1)\n",
        "    while left<right:\n",
        "      if nums[i] + nums[left] + nums[right] == 0:\n",
        "        result.append([nums[i], nums[left], nums[right]])\n",
        "      left +=1\n",
        "\n",
        "  return result"
      ],
      "metadata": {
        "id": "x6kCiCYS59Qc"
      },
      "execution_count": null,
      "outputs": []
    },
    {
      "cell_type": "markdown",
      "source": [
        "# **Sliding Window Examples **"
      ],
      "metadata": {
        "id": "jNiHRhyc4Fs3"
      }
    },
    {
      "cell_type": "code",
      "source": [
        "## Sliding Window Template\n",
        "def sliding_window_template(s):\n",
        "  left = 0\n",
        "  result = 0\n",
        "  window_data = {} # track window contents\n",
        "\n",
        "  for right in range(len(s)):\n",
        "    # Expand window: add s[right]\n",
        "    window_data[s[right]] = window_data.get(s[right], 0) + 1\n",
        "\n",
        "    # Contract window while condition violated\n",
        "    while condition_violated(window_data):\n",
        "      # Remove s[left] from window\n",
        "      window_data[s[left]] -=1\n",
        "      if window_data[s[left]] == 0:\n",
        "        del window_data[s[left]]\n",
        "      left +=1\n",
        "    # Updata result with current valid window\n",
        "    result = max(result, right-left+1)\n",
        "  return result\n"
      ],
      "metadata": {
        "id": "w5vLmqs32iLW"
      },
      "execution_count": null,
      "outputs": []
    },
    {
      "cell_type": "code",
      "source": [
        "## Longest Substring Without Repeating Characters (#3)\n",
        "## Bruto Force Solution\n",
        "def lengthOfLongestSubstring_brute(s):\n",
        "  max_length = 0\n",
        "  for i in range(len(s)):\n",
        "    seen = set()\n",
        "    for j in range(i,len(s)):\n",
        "      if s[j] in seen:\n",
        "        break\n",
        "      seen.add(s[j])\n",
        "      max_length = max(max_length, j-i+1)\n",
        "  return max_length\n",
        "print(lengthOfLongestSubstring_brute(\"abcabcbb\")) ## O(n^2)"
      ],
      "metadata": {
        "colab": {
          "base_uri": "https://localhost:8080/"
        },
        "id": "3EZvhX5H4EYu",
        "outputId": "bc20193c-1317-44dc-bb4f-53217b2676be"
      },
      "execution_count": 1,
      "outputs": [
        {
          "output_type": "stream",
          "name": "stdout",
          "text": [
            "3\n"
          ]
        }
      ]
    }
  ]
}